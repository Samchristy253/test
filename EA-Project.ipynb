{
 "cells": [
  {
   "cell_type": "code",
   "execution_count": 1,
   "metadata": {},
   "outputs": [],
   "source": [
    "#import necessary libraries\n",
    "import requests\n",
    "import pandas as pd\n",
    "import csv\n",
    "import json\n",
    "import numpy as np"
   ]
  },
  {
   "cell_type": "code",
   "execution_count": 2,
   "metadata": {},
   "outputs": [],
   "source": [
    "#To join data frames\n",
    "def custom_join(left_df,right_df,join_type,left_col,right_on):\n",
    "    temp=pd.merge(left_df,right_df,how=join_type,left_on=left_col,right_on=right_on)\n",
    "    return temp"
   ]
  },
  {
   "cell_type": "code",
   "execution_count": 3,
   "metadata": {},
   "outputs": [],
   "source": [
    "#variable declaration\n",
    "assest_cat_li=[\"categories.json\",\"asset-types.json\",\"elements.json\",\"attributes.json\",\"picklists.json\"]\n",
    "main_url=\"https://environment.data.gov.uk/asset-management/drl-app/revision/current/api/list/\"\n",
    "\n",
    "sub_url=\"https://environment.data.gov.uk/asset-management/drl-app/revision/current/api/resource.json?id=http://environment.data.gov.uk/asset-management/id/drl/\""
   ]
  },
  {
   "cell_type": "code",
   "execution_count": null,
   "metadata": {},
   "outputs": [],
   "source": [
    "\"\"\"\n",
    "first getting and displaying all values under specific value\n",
    "then we select a value from the options displayed\n",
    "then it will move to next topic with the selected value as filter\n",
    "this works from Category to Picklists (We can end at anytime but upto selected value will be displayed.)\n",
    "\"\"\""
   ]
  },
  {
   "cell_type": "code",
   "execution_count": 6,
   "metadata": {
    "scrolled": true
   },
   "outputs": [
    {
     "name": "stdout",
     "output_type": "stream",
     "text": [
      "Select Categories from listed below:\n",
      "\n",
      " 1  -  AidsToNavigation\n",
      "\n",
      " 2  -  Amenities\n",
      "\n",
      " 3  -  AssetComplex\n",
      "\n",
      " 4  -  BeachStructure\n",
      "\n",
      " 5  -  BuildingsAndCompounds\n",
      "\n",
      " 6  -  Channel\n",
      "\n",
      " 7  -  ChannelCrossings\n",
      "\n",
      " 8  -  Defence\n",
      "\n",
      " 9  -  InformationDeliverables\n",
      "\n",
      " 10  -  Instruments\n",
      "\n",
      " 11  -  Land\n",
      "\n",
      " 12  -  Meica\n",
      "\n",
      " 13  -  PublicSafety\n",
      "\n",
      " 14  -  Structure\n",
      "\n",
      "Enter the index value: 5\n",
      "\n",
      "Do you want to continue (Y/N) \n",
      "Y\n",
      "Asset subtype count:  15\n",
      "Select Asset Type from listed below:\n",
      "\n",
      " 1  -  VisitorCentre\n",
      "\n",
      " 2  -  Garage\n",
      "\n",
      " 3  -  MonitoringBuilding\n",
      "\n",
      " 4  -  MaintenanceBuilding\n",
      "\n",
      " 5  -  PumpHouse\n",
      "\n",
      " 6  -  ResidentialBuilding\n",
      "\n",
      " 7  -  GaugingStationBuilding\n",
      "\n",
      " 8  -  Boathouse\n",
      "\n",
      " 9  -  Shelter\n",
      "\n",
      " 10  -  ControlBuilding\n",
      "\n",
      " 11  -  OfficeBuilding\n",
      "\n",
      " 12  -  StorageLocation\n",
      "\n",
      " 13  -  Watermill\n",
      "\n",
      " 14  -  AmenityBuilding\n",
      "\n",
      " 15  -  LabBuilding\n",
      "\n",
      "Enter the index value: 5\n",
      "\n",
      "Do you want to continue (Y/N) \n",
      "Y\n",
      "Elements count:  74\n",
      "Select Elements from listed below:\n",
      "\n",
      " 1  -  PumpHouse-frame\n",
      "\n",
      " 2  -  PumpHouse-thrust-pit\n",
      "\n",
      " 3  -  PumpHouse-alternator\n",
      "\n",
      " 4  -  PumpHouse-electricity-meter\n",
      "\n",
      " 5  -  PumpHouse-outlet\n",
      "\n",
      " 6  -  PumpHouse-gantry\n",
      "\n",
      " 7  -  PumpHouse-solar-panel\n",
      "\n",
      " 8  -  PumpHouse-roller-shutters\n",
      "\n",
      " 9  -  PumpHouse-chamber\n",
      "\n",
      " 10  -  PumpHouse-drainage-system\n",
      "\n",
      " 11  -  PumpHouse-fuel-cell\n",
      "\n",
      " 12  -  PumpHouse-struts-and-bracing\n",
      "\n",
      " 13  -  PumpHouse-uninterruptible-power-supply\n",
      "\n",
      " 14  -  PumpHouse-access-strip\n",
      "\n",
      " 15  -  PumpHouse-jib-crane\n",
      "\n",
      " 16  -  PumpHouse-hydro-turbine\n",
      "\n",
      " 17  -  PumpHouse-habitat-enhancement\n",
      "\n",
      " 18  -  PumpHouse-external-walls\n",
      "\n",
      " 19  -  PumpHouse-fire-protection\n",
      "\n",
      " 20  -  PumpHouse-fixings\n",
      "\n",
      " 21  -  PumpHouse-substructure\n",
      "\n",
      " 22  -  PumpHouse-kerbs\n",
      "\n",
      " 23  -  PumpHouse-internal-features\n",
      "\n",
      " 24  -  PumpHouse-distribution-network-operator-feeder\n",
      "\n",
      " 25  -  PumpHouse-foundation\n",
      "\n",
      " 26  -  PumpHouse-heating-system\n",
      "\n",
      " 27  -  PumpHouse-datum-plates-and-markers\n",
      "\n",
      " 28  -  PumpHouse-roof\n",
      "\n",
      " 29  -  PumpHouse-wind-turbine\n",
      "\n",
      " 30  -  PumpHouse-electrical-system\n",
      "\n",
      " 31  -  PumpHouse-gas-system\n",
      "\n",
      " 32  -  PumpHouse-civils\n",
      "\n",
      " 33  -  PumpHouse-climate-control\n",
      "\n",
      " 34  -  PumpHouse-planted-elements\n",
      "\n",
      " 35  -  PumpHouse-external-features\n",
      "\n",
      " 36  -  PumpHouse-fixed-fall-arrest-system\n",
      "\n",
      " 37  -  PumpHouse-animal-grid\n",
      "\n",
      " 38  -  PumpHouse-stoplogs-and-lasherboards\n",
      "\n",
      " 39  -  PumpHouse-equipment-mounting-board\n",
      "\n",
      " 40  -  PumpHouse-internal-walls\n",
      "\n",
      " 41  -  PumpHouse-ropes\n",
      "\n",
      " 42  -  PumpHouse-chain-blocks\n",
      "\n",
      " 43  -  PumpHouse-doors-and-windows\n",
      "\n",
      " 44  -  PumpHouse-padlock-or-lock\n",
      "\n",
      " 45  -  PumpHouse-excavated-ground\n",
      "\n",
      " 46  -  PumpHouse-floor\n",
      "\n",
      " 47  -  PumpHouse-router\n",
      "\n",
      " 48  -  PumpHouse-topmark\n",
      "\n",
      " 49  -  PumpHouse-ceiling\n",
      "\n",
      " 50  -  PumpHouse-cable-and-pipe-management\n",
      "\n",
      " 51  -  PumpHouse-automation-interface\n",
      "\n",
      " 52  -  PumpHouse-distribution-board\n",
      "\n",
      " 53  -  PumpHouse-actuator\n",
      "\n",
      " 54  -  PumpHouse-data-logger\n",
      "\n",
      " 55  -  PumpHouse-network\n",
      "\n",
      " 56  -  PumpHouse-transformer\n",
      "\n",
      " 57  -  PumpHouse-davit\n",
      "\n",
      " 58  -  PumpHouse-cabinet\n",
      "\n",
      " 59  -  PumpHouse-ventilation-system\n",
      "\n",
      " 60  -  PumpHouse-water-supply-plumbing-system\n",
      "\n",
      " 61  -  PumpHouse-security-camera\n",
      "\n",
      " 62  -  PumpHouse-overhead-crane\n",
      "\n",
      " 63  -  PumpHouse-structural-steelwork\n",
      "\n",
      " 64  -  PumpHouse-maintenance-hole\n",
      "\n",
      " 65  -  PumpHouse-lighting\n",
      "\n",
      " 66  -  PumpHouse-beams\n",
      "\n",
      " 67  -  PumpHouse-waste-disposal-system\n",
      "\n",
      " 68  -  PumpHouse-winch\n",
      "\n",
      " 69  -  PumpHouse-grassed-elements\n",
      "\n",
      " 70  -  PumpHouse-electricity-sub-meter\n",
      "\n",
      " 71  -  PumpHouse-sewage-treatment-system\n",
      "\n",
      " 72  -  PumpHouse-fastenings\n",
      "\n",
      " 73  -  PumpHouse-ladder\n",
      "\n",
      " 74  -  PumpHouse-incomer\n",
      "\n",
      "Enter the index value: N\n"
     ]
    },
    {
     "ename": "ValueError",
     "evalue": "invalid literal for int() with base 10: 'N'",
     "output_type": "error",
     "traceback": [
      "\u001b[1;31m---------------------------------------------------------------------------\u001b[0m",
      "\u001b[1;31mValueError\u001b[0m                                Traceback (most recent call last)",
      "\u001b[1;32m<ipython-input-6-7eac17697f4b>\u001b[0m in \u001b[0;36m<module>\u001b[1;34m\u001b[0m\n\u001b[0;32m     54\u001b[0m         \u001b[1;32mfor\u001b[0m \u001b[0mind\u001b[0m\u001b[1;33m,\u001b[0m\u001b[0mval\u001b[0m \u001b[1;32min\u001b[0m \u001b[0menumerate\u001b[0m\u001b[1;33m(\u001b[0m\u001b[0mast_val_li\u001b[0m\u001b[1;33m)\u001b[0m\u001b[1;33m:\u001b[0m\u001b[1;33m\u001b[0m\u001b[1;33m\u001b[0m\u001b[0m\n\u001b[0;32m     55\u001b[0m             \u001b[0mprint\u001b[0m\u001b[1;33m(\u001b[0m\u001b[1;34m\"\\n\"\u001b[0m\u001b[1;33m,\u001b[0m\u001b[0mind\u001b[0m\u001b[1;33m+\u001b[0m\u001b[1;36m1\u001b[0m\u001b[1;33m,\u001b[0m\u001b[1;34m\" - \"\u001b[0m\u001b[1;33m,\u001b[0m\u001b[0mval\u001b[0m\u001b[1;33m)\u001b[0m\u001b[1;33m\u001b[0m\u001b[1;33m\u001b[0m\u001b[0m\n\u001b[1;32m---> 56\u001b[1;33m         \u001b[0minp_val\u001b[0m\u001b[1;33m=\u001b[0m\u001b[0mint\u001b[0m\u001b[1;33m(\u001b[0m\u001b[0minput\u001b[0m\u001b[1;33m(\u001b[0m\u001b[1;34m\"\\nEnter the index value: \"\u001b[0m\u001b[1;33m)\u001b[0m\u001b[1;33m)\u001b[0m\u001b[1;33m\u001b[0m\u001b[1;33m\u001b[0m\u001b[0m\n\u001b[0m\u001b[0;32m     57\u001b[0m         \u001b[0mval_json\u001b[0m\u001b[1;33m=\u001b[0m\u001b[0mrequests\u001b[0m\u001b[1;33m.\u001b[0m\u001b[0mget\u001b[0m\u001b[1;33m(\u001b[0m\u001b[0msub_url\u001b[0m\u001b[1;33m+\u001b[0m\u001b[0mast_val_li\u001b[0m\u001b[1;33m[\u001b[0m\u001b[0minp_val\u001b[0m\u001b[1;33m-\u001b[0m\u001b[1;36m1\u001b[0m\u001b[1;33m]\u001b[0m\u001b[1;33m)\u001b[0m\u001b[1;33m.\u001b[0m\u001b[0mjson\u001b[0m\u001b[1;33m(\u001b[0m\u001b[1;33m)\u001b[0m\u001b[1;33m\u001b[0m\u001b[1;33m\u001b[0m\u001b[0m\n\u001b[0;32m     58\u001b[0m         \u001b[0mast_df\u001b[0m\u001b[1;33m=\u001b[0m\u001b[0mpd\u001b[0m\u001b[1;33m.\u001b[0m\u001b[0mjson_normalize\u001b[0m\u001b[1;33m(\u001b[0m\u001b[0mval_json\u001b[0m\u001b[1;33m)\u001b[0m\u001b[1;33m\u001b[0m\u001b[1;33m\u001b[0m\u001b[0m\n",
      "\u001b[1;31mValueError\u001b[0m: invalid literal for int() with base 10: 'N'"
     ]
    }
   ],
   "source": [
    "count=0\n",
    "flag=True\n",
    "main_df=pd.DataFrame()\n",
    "id_val=\"\"\n",
    "\n",
    "while flag:\n",
    "    if count==0:\n",
    "        cat_json = requests.get(main_url+assest_cat_li[count]).json()\n",
    "        cat_df=pd.json_normalize(cat_json)\n",
    "        cat_val_li=[]\n",
    "        #for split and store\n",
    "        for val in cat_df['id'].values.tolist():\n",
    "            cat_val_li.append(val.split(\"/\")[-1])  \n",
    "        print(\"Select Categories from listed below:\")\n",
    "        #for display the list\n",
    "        for ind,val in enumerate(cat_val_li):\n",
    "            print(\"\\n\",ind+1,\" - \",val)\n",
    "        #getting an input from displayed options\n",
    "        inp_val=int(input(\"\\nEnter the index value: \"))\n",
    "        val_json=requests.get(sub_url+cat_val_li[inp_val-1]).json()\n",
    "        main_df=pd.json_normalize(val_json)\n",
    "        #reference column for upcoming jsons\n",
    "        id_val=main_df['id'].loc[0]\n",
    "    elif count==1:\n",
    "        ast_json = requests.get(main_url+assest_cat_li[count]).json()\n",
    "        ast_df=pd.json_normalize(ast_json,record_path=['markdown'],meta=['description','category','assetCode','label','id','uniclass2015',['edit','id'],['edit','type'],['edit','date']],errors='ignore',meta_prefix='meta-',record_prefix='record-')\n",
    "        fil_df=ast_df[ast_df['meta-category']==id_val]\n",
    "        \n",
    "        ast_val_li=[]\n",
    "        for val in set(fil_df['meta-id'].values.tolist()):\n",
    "            ast_val_li.append(val.split(\"/\")[-1]) \n",
    "        ast_val_li=list(set(ast_val_li))\n",
    "        asset_sub_type_count=len(ast_val_li)\n",
    "        print(\"Asset subtype count: \",asset_sub_type_count)\n",
    "        print(\"Select Asset Type from listed below:\")\n",
    "        for ind,val in enumerate(ast_val_li):\n",
    "            print(\"\\n\",ind+1,\" - \",val)\n",
    "        inp_val=int(input(\"\\nEnter the index value: \"))\n",
    "        val_json=requests.get(sub_url+ast_val_li[inp_val-1]).json()\n",
    "        #print(val_json)\n",
    "        ast_df=pd.json_normalize(val_json,record_path=['markdown'],meta=['description','category','assetCode','label','id','uniclass2015',['edit','id'],['edit','type'],['edit','date']],errors='ignore',meta_prefix='meta-',record_prefix='record-')\n",
    "        main_df=custom_join(main_df,ast_df,\"left\",\"id\",\"meta-category\")\n",
    "        id_val=main_df['meta-id'].loc[0]\n",
    "    elif count==2:\n",
    "        ast_json = requests.get(main_url+assest_cat_li[count]).json()\n",
    "        ast_df=pd.json_normalize(ast_json)\n",
    "        fil_df=ast_df[ast_df['assetType']==id_val]\n",
    "        element_count=len(fil_df)\n",
    "        print(\"Elements count: \",element_count)\n",
    "        ast_val_li=[]\n",
    "        for val in set(fil_df['id'].values.tolist()):\n",
    "            ast_val_li.append(val.split(\"/\")[-1])  \n",
    "        print(\"Select Elements from listed below:\")\n",
    "        for ind,val in enumerate(ast_val_li):\n",
    "            print(\"\\n\",ind+1,\" - \",val)\n",
    "        inp_val=int(input(\"\\nEnter the index value: \"))\n",
    "        val_json=requests.get(sub_url+ast_val_li[inp_val-1]).json()\n",
    "        ast_df=pd.json_normalize(val_json)\n",
    "        main_df=custom_join(main_df,ast_df,\"left\",\"meta-id\",\"assetType\")\n",
    "        id_val=main_df['id_y'].loc[0]\n",
    "    elif count==3:\n",
    "        ast_json = requests.get(main_url+assest_cat_li[count]).json()\n",
    "        ast_df=pd.json_normalize(ast_json)\n",
    "        fil_df=ast_df[ast_df['attributeOf']==id_val]\n",
    "        attribute_count=len(fil_df)\n",
    "        print(\"Attributes count: \",attribute_count)\n",
    "        ast_val_li=[]\n",
    "        for val in set(fil_df['id'].values.tolist()):\n",
    "            ast_val_li.append(val.split(\"/\")[-1])  \n",
    "        print(\"Select Attributes from listed below:\")\n",
    "        for ind,val in enumerate(ast_val_li):\n",
    "            print(\"\\n\",ind+1,\" - \",val)\n",
    "        inp_val=int(input(\"\\nEnter the index value: \"))\n",
    "        val_json=requests.get(sub_url+ast_val_li[inp_val-1]).json()\n",
    "        ast_df=pd.json_normalize(val_json)\n",
    "        main_df=custom_join(main_df,ast_df,\"left\",\"id_y\",\"attributeOf\")\n",
    "        id_val=main_df['format.id'].loc[0]\n",
    "    elif count==4:\n",
    "        ast_json = requests.get(main_url+assest_cat_li[count]).json()\n",
    "        ast_df=pd.json_normalize(ast_json,record_path=['options'],meta=['id','label',['edit','id'],['edit','type'],['edit','date']],errors='ignore',meta_prefix='meta-',record_prefix='record-')\n",
    "        fil_df=ast_df[ast_df['meta-id']==id_val]\n",
    "        ast_val_li=[]\n",
    "        for val in set(fil_df['meta-id'].values.tolist()):\n",
    "            ast_val_li.append(val.split(\"/\")[-1])  \n",
    "        print(\"Select Picklists from listed below:\")\n",
    "        for ind,val in enumerate(ast_val_li):\n",
    "            print(\"\\n\",ind+1,\" - \",val)\n",
    "        inp_val=int(input(\"\\nEnter the index value: \"))\n",
    "        val_json=requests.get(sub_url+ast_val_li[inp_val-1]).json()\n",
    "        ast_df=pd.json_normalize(val_json,record_path=['options'],meta=['id','label',['edit','id'],['edit','type'],['edit','date']],errors='ignore',meta_prefix='meta-',record_prefix='record-')\n",
    "        main_df=custom_join(main_df,ast_df,\"left\",\"format.id\",\"meta-id\")\n",
    "        \n",
    "    print(\"\\nDo you want to continue (Y/N) \")\n",
    "    ch_val=input()\n",
    "    if ch_val==\"Y\":\n",
    "        count+=1\n",
    "        if count>4:\n",
    "            flag=False\n",
    "    else:\n",
    "        flag=False"
   ]
  },
  {
   "cell_type": "code",
   "execution_count": 5,
   "metadata": {},
   "outputs": [],
   "source": [
    "#drop the columns if needed\n",
    "Final_Data=main_df.drop(['id_x','description_x', 'edit.id_x', 'edit.type_x',\n",
    "       'edit.date_x', 'record-priority', 'record-desc', 'record-type',\n",
    "       'record-image', 'record-altText', 'record-caption', 'meta-description',\n",
    "       'meta-category', 'meta-assetCode', 'meta-id_x',\n",
    "       'meta-uniclass2015', 'meta-edit.id_x', 'meta-edit.type_x',\n",
    "       'meta-edit.date_x', 'description_y', 'assetType', 'elementCode',\n",
    "       'id_y', 'essential','uniclass2015', 'edit.id_y',\n",
    "       'edit.type_y', 'edit.date_y', 'description', 'mandatory', 'purpose',\n",
    "       'geocobieMapping', 'delivery', 'id',\n",
    "       'format.format', \n",
    "       'format.formatLabel', 'edit.id', 'edit.type', 'edit.date',\n",
    "       'record-id', 'record-sortPriority', 'meta-id_y',\n",
    "       'meta-edit.id_y', 'meta-edit.type_y',\n",
    "       'meta-edit.date_y'],\n",
    "      axis=1)"
   ]
  },
  {
   "cell_type": "code",
   "execution_count": 9,
   "metadata": {},
   "outputs": [],
   "source": [
    "Final_Data.rename(columns = {\"label_x\":\"Category-label\",\"meta-label_x\":\"Asset subtypes-label\",\"label_y\":\"Elements-label\",\"label\":\"Attributes-label\",\"meta-label_y\":\"Picklists-label\"},inplace=True)"
   ]
  },
  {
   "cell_type": "code",
   "execution_count": 10,
   "metadata": {},
   "outputs": [],
   "source": [
    "Final_Data.to_csv('Final_Data.csv',index=False)"
   ]
  },
  {
   "cell_type": "code",
   "execution_count": 14,
   "metadata": {
    "scrolled": true
   },
   "outputs": [
    {
     "data": {
      "text/plain": [
       "['id_x',\n",
       " 'label_x',\n",
       " 'description_x',\n",
       " 'edit.id_x',\n",
       " 'edit.type_x',\n",
       " 'edit.date_x',\n",
       " 'record-priority',\n",
       " 'record-desc',\n",
       " 'record-type',\n",
       " 'record-image',\n",
       " 'record-altText',\n",
       " 'record-caption',\n",
       " 'meta-description',\n",
       " 'meta-category',\n",
       " 'meta-assetCode',\n",
       " 'meta-label_x',\n",
       " 'meta-id_x',\n",
       " 'meta-uniclass2015',\n",
       " 'meta-edit.id_x',\n",
       " 'meta-edit.type_x',\n",
       " 'meta-edit.date_x',\n",
       " 'description_y',\n",
       " 'assetType',\n",
       " 'elementCode',\n",
       " 'label_y',\n",
       " 'id_y',\n",
       " 'essential',\n",
       " 'uniclass2015',\n",
       " 'edit.id_y',\n",
       " 'edit.type_y',\n",
       " 'edit.date_y',\n",
       " 'description',\n",
       " 'mandatory',\n",
       " 'purpose',\n",
       " 'attributeOf',\n",
       " 'geocobieMapping',\n",
       " 'delivery',\n",
       " 'label',\n",
       " 'id',\n",
       " 'format.id',\n",
       " 'format.format',\n",
       " 'format.formatLabel',\n",
       " 'edit.id',\n",
       " 'edit.type',\n",
       " 'edit.date',\n",
       " 'record-id',\n",
       " 'record-label',\n",
       " 'record-sortPriority',\n",
       " 'meta-id_y',\n",
       " 'meta-label_y',\n",
       " 'meta-edit.id_y',\n",
       " 'meta-edit.type_y',\n",
       " 'meta-edit.date_y']"
      ]
     },
     "execution_count": 14,
     "metadata": {},
     "output_type": "execute_result"
    }
   ],
   "source": [
    "main_df.columns.tolist()"
   ]
  },
  {
   "cell_type": "code",
   "execution_count": 11,
   "metadata": {},
   "outputs": [],
   "source": [
    "def check_val_in_col(val,df):\n",
    "    res=[]\n",
    "    for col in df.columns.tolist():\n",
    "        if val in df[col].astype(str).values.tolist():\n",
    "            res.append(col)\n",
    "    return res"
   ]
  },
  {
   "cell_type": "code",
   "execution_count": 12,
   "metadata": {},
   "outputs": [
    {
     "name": "stdout",
     "output_type": "stream",
     "text": [
      "['meta-id']\n"
     ]
    }
   ],
   "source": [
    "#ast_json = requests.get(main_url+\"picklists.json\").json()\n",
    "#ast_df=pd.json_normalize(ast_json,record_path=['options'],meta=['id','label',['edit','id'],['edit','type'],['edit','date']],errors='ignore',meta_prefix='meta-',record_prefix='record-')\n",
    "#print(check_val_in_col(id_val,ast_df))"
   ]
  },
  {
   "cell_type": "code",
   "execution_count": 36,
   "metadata": {},
   "outputs": [
    {
     "name": "stdout",
     "output_type": "stream",
     "text": [
      "description []\n",
      "mandatory []\n",
      "purpose ['record-label']\n",
      "attributeOf []\n",
      "geocobieMapping []\n",
      "delivery []\n",
      "label []\n",
      "id []\n",
      "format.id []\n",
      "format.format []\n",
      "format.maxValue []\n",
      "format.numberOfDecimalPlaces []\n",
      "format.formatLabel []\n",
      "format.minValue []\n",
      "format.numericUnit []\n",
      "edit.id []\n",
      "edit.type ['meta-edit.type']\n",
      "edit.date ['meta-edit.date']\n",
      "format.maxLength ['record-sortPriority']\n",
      "format.referenceType []\n",
      "format.referenceCode []\n"
     ]
    }
   ],
   "source": [
    "#for i in temp.columns.tolist():\n",
    "    #print(i,check_val_in_col(temp[i].iloc[0],ast_df))"
   ]
  },
  {
   "cell_type": "code",
   "execution_count": 21,
   "metadata": {},
   "outputs": [
    {
     "data": {
      "text/plain": [
       "'http://environment.data.gov.uk/asset-management/id/drl/Groyne-fishtail-element-description'"
      ]
     },
     "execution_count": 21,
     "metadata": {},
     "output_type": "execute_result"
    }
   ],
   "source": [
    "temp['id'].iloc[0]"
   ]
  },
  {
   "cell_type": "code",
   "execution_count": 43,
   "metadata": {
    "scrolled": true
   },
   "outputs": [
    {
     "data": {
      "text/plain": [
       "'http://environment.data.gov.uk/asset-management/id/drl/Groyne-fishtail'"
      ]
     },
     "execution_count": 43,
     "metadata": {},
     "output_type": "execute_result"
    }
   ],
   "source": [
    "temp['attributeOf'].iloc[0]"
   ]
  },
  {
   "cell_type": "code",
   "execution_count": 14,
   "metadata": {},
   "outputs": [
    {
     "data": {
      "text/plain": [
       "'http://environment.data.gov.uk/asset-management/id/drl/Groyne-fishtail'"
      ]
     },
     "execution_count": 14,
     "metadata": {},
     "output_type": "execute_result"
    }
   ],
   "source": [
    "id_val"
   ]
  },
  {
   "cell_type": "code",
   "execution_count": null,
   "metadata": {},
   "outputs": [],
   "source": [
    "main_df['meta-id'].values"
   ]
  },
  {
   "cell_type": "code",
   "execution_count": null,
   "metadata": {},
   "outputs": [],
   "source": [
    "####jgaajha "
   ]
  }
 ],
 "metadata": {
  "kernelspec": {
   "display_name": "Python 3",
   "language": "python",
   "name": "python3"
  },
  "language_info": {
   "codemirror_mode": {
    "name": "ipython",
    "version": 3
   },
   "file_extension": ".py",
   "mimetype": "text/x-python",
   "name": "python",
   "nbconvert_exporter": "python",
   "pygments_lexer": "ipython3",
   "version": "3.7.6"
  }
 },
 "nbformat": 4,
 "nbformat_minor": 4
}
